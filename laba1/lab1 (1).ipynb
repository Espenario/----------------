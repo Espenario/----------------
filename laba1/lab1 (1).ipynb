{
 "cells": [
  {
   "cell_type": "code",
   "execution_count": 1,
   "metadata": {},
   "outputs": [],
   "source": [
    "import numpy as np"
   ]
  },
  {
   "cell_type": "code",
   "execution_count": 2,
   "metadata": {},
   "outputs": [],
   "source": [
    "# from decimal import Decimal, getcontext\n",
    "# getcontext().prec = 80"
   ]
  },
  {
   "cell_type": "code",
   "execution_count": 3,
   "metadata": {},
   "outputs": [],
   "source": [
    "dim = 4\n",
    "\n",
    "a_coeffs = np.array([0.0] + [1.0] * (dim - 1), dtype=np.longdouble)\n",
    "b_coeffs = np.array([4.0] * dim, dtype=np.longdouble)\n",
    "c_coeffs = np.array([1.0] * (dim - 1), dtype=np.longdouble)\n",
    "\n",
    "d_coeffs = np.array([5.0, 6.0, 6.0, 5.0], dtype=np.longdouble)"
   ]
  },
  {
   "cell_type": "code",
   "execution_count": 4,
   "metadata": {},
   "outputs": [],
   "source": [
    "# dim = 4\n",
    "\n",
    "# a_coeffs = [Decimal(0.)] + [Decimal(1.)] * (dim - 1)\n",
    "# b_coeffs = [Decimal(4.)] * dim\n",
    "# c_coeffs = [Decimal(1.)] * (dim - 1)\n",
    "\n",
    "# d_coeffs = [Decimal(5.), Decimal(6.), Decimal(6.), Decimal(5.)]"
   ]
  },
  {
   "cell_type": "code",
   "execution_count": 5,
   "metadata": {},
   "outputs": [],
   "source": [
    "def solve_eq():\n",
    "    alphas, betas = np.zeros(dim, dtype=np.float16), np.zeros(dim, dtype=np.float16)\n",
    "\n",
    "    for i in range(dim-1):\n",
    "        alphas[i+1] = -c_coeffs[i]/(a_coeffs[i] * alphas[i] + b_coeffs[i])\n",
    "        betas[i+1] = (d_coeffs[i] - a_coeffs[i] * betas[i]) / (a_coeffs[i] * alphas[i] + b_coeffs[i])\n",
    "    \n",
    "    x = np.zeros(dim, dtype=np.longdouble)\n",
    "    x[-1] = (d_coeffs[-1] - a_coeffs[-1] * betas[-1]) / (a_coeffs[-1] * alphas[-1] + b_coeffs[-1])\n",
    "\n",
    "    for i in range(dim-1, 0, -1):\n",
    "        x[i-1] = alphas[i] * x[i] + betas[i]\n",
    "\n",
    "    return alphas, betas, x"
   ]
  },
  {
   "cell_type": "code",
   "execution_count": 6,
   "metadata": {},
   "outputs": [],
   "source": [
    "# def solve_eq():\n",
    "#     alphas, betas = [Decimal(0.01)] * dim, [Decimal(0.01)] * dim\n",
    "#     alphas[1] = - c_coeffs[0] / b_coeffs[0]\n",
    "#     betas[1] = d_coeffs[0] / b_coeffs[0]\n",
    "#     for i in range(1, dim-1):\n",
    "#         alphas[i+1] = -c_coeffs[i]/(a_coeffs[i] * alphas[i] + b_coeffs[i])\n",
    "#         betas[i+1] = (d_coeffs[i] - a_coeffs[i] * betas[i]) / (a_coeffs[i] * alphas[i] + b_coeffs[i])\n",
    "#         print(i, type(alphas[i+1]), type(betas[i+1]))\n",
    "    \n",
    "#     x = [Decimal(0.01)] * dim\n",
    "#     x[-1] = (d_coeffs[-1] - a_coeffs[-1] * betas[-1]) / (a_coeffs[-1] * alphas[-1] + b_coeffs[-1])\n",
    "\n",
    "#     for i in range(dim-1, 0, -1):\n",
    "#         x[i-1] = alphas[i] * x[i] + betas[i]\n",
    "\n",
    "#     return alphas, betas, x"
   ]
  },
  {
   "cell_type": "code",
   "execution_count": 7,
   "metadata": {},
   "outputs": [],
   "source": [
    "solution = solve_eq()"
   ]
  },
  {
   "cell_type": "code",
   "execution_count": 8,
   "metadata": {},
   "outputs": [
    {
     "data": {
      "text/plain": [
       "(array([ 0.        , -0.25      , -0.26666667, -0.26785714], dtype=float128),\n",
       " array([0.        , 1.25      , 1.26666667, 1.26785714], dtype=float128),\n",
       " array([1., 1., 1., 1.], dtype=float128))"
      ]
     },
     "execution_count": 8,
     "metadata": {},
     "output_type": "execute_result"
    }
   ],
   "source": [
    "solution"
   ]
  },
  {
   "cell_type": "code",
   "execution_count": 9,
   "metadata": {},
   "outputs": [
    {
     "data": {
      "text/plain": [
       "array([1., 1., 1., 1.])"
      ]
     },
     "execution_count": 9,
     "metadata": {},
     "output_type": "execute_result"
    }
   ],
   "source": [
    "A = np.array([[4, 1, 0, 0],\n",
    "              [1, 4, 1, 0],\n",
    "              [0, 1, 4, 1],\n",
    "              [0, 0, 1, 4]])\n",
    "\n",
    "np.dot(np.linalg.inv(A), np.array([5, 6, 6, 5]))"
   ]
  },
  {
   "cell_type": "code",
   "execution_count": 10,
   "metadata": {},
   "outputs": [],
   "source": [
    "np.set_printoptions(precision=25)"
   ]
  },
  {
   "cell_type": "code",
   "execution_count": 11,
   "metadata": {},
   "outputs": [
    {
     "data": {
      "text/plain": [
       "numpy.float128"
      ]
     },
     "execution_count": 11,
     "metadata": {},
     "output_type": "execute_result"
    }
   ],
   "source": [
    "type(np.longdouble(1000000000000000000000001) / np.longdouble(1000000000000000000000000))"
   ]
  },
  {
   "cell_type": "code",
   "execution_count": null,
   "metadata": {},
   "outputs": [],
   "source": []
  }
 ],
 "metadata": {
  "kernelspec": {
   "display_name": "Python 3.6.9 64-bit",
   "language": "python",
   "name": "python3"
  },
  "language_info": {
   "codemirror_mode": {
    "name": "ipython",
    "version": 3
   },
   "file_extension": ".py",
   "mimetype": "text/x-python",
   "name": "python",
   "nbconvert_exporter": "python",
   "pygments_lexer": "ipython3",
   "version": "3.6.9"
  },
  "orig_nbformat": 4,
  "vscode": {
   "interpreter": {
    "hash": "31f2aee4e71d21fbe5cf8b01ff0e069b9275f58929596ceb00d14d90e3e16cd6"
   }
  }
 },
 "nbformat": 4,
 "nbformat_minor": 2
}
