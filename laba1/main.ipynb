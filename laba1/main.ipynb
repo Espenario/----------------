{
 "cells": [
  {
   "cell_type": "code",
   "execution_count": 1,
   "metadata": {},
   "outputs": [],
   "source": [
    "import numpy as np\n",
    "from numpy import linalg as LA"
   ]
  },
  {
   "cell_type": "code",
   "execution_count": 2,
   "metadata": {},
   "outputs": [
    {
     "name": "stdout",
     "output_type": "stream",
     "text": [
      "Приближенное решение  [0.9999825602431804, 1.000069759027278, 0.9997383397658142, 1.0000654150585464]\n",
      "e1  [ 1.74397568e-05 -6.97590273e-05  2.61660234e-04 -6.54150585e-05]\n",
      "e2  [ 1.7439756e-05 -6.9759022e-05  2.6166023e-04 -6.5415057e-05]\n"
     ]
    }
   ],
   "source": [
    "\n",
    "\n",
    "def calculate_x_n(a, b, c, d, n):\n",
    "    #alpha = [0.0] * n\n",
    "    #beta = [0.0] * n\n",
    "    alpha = np.zeros(n, dtype=np.float16)\n",
    "    beta = np.zeros(n, dtype=np.float16)    \n",
    "    alpha[0] = -c[0] / b[0]\n",
    "    beta[0] = d[0] / b[0]\n",
    "    for i in range(1,n-1):\n",
    "        #print(i)\n",
    "        alpha[i] = -c[i] / (a[i-1]*alpha[i-1] + b[i])\n",
    "        beta[i] = (d[i] - a[i-1]*beta[i-1]) / (a[i-1]*alpha[i-1] + b[i])\n",
    "    x_n = (d[n-1] - a[n-2]*beta[n-2]) / (a[n-2]*alpha[n-2] + b[n-1])\n",
    "    #print(alpha, beta)\n",
    "    return x_n, alpha, beta\n",
    "\n",
    "def calculate_x_vector(x_n, alpha, beta, n):\n",
    "    x = [0.0] * (n-1)\n",
    "    x.append(x_n)\n",
    "    for i in range(n-2, -1, -1):\n",
    "        x[i] = alpha[i]*x[i+1] + beta[i]\n",
    "    return x\n",
    "\n",
    "def main():\n",
    "    n = 4\n",
    "    a_coefs = [1.0] * (n-1)\n",
    "    b_coefs = [4.0] * n\n",
    "    c_coefs = [1.0] * (n-1)\n",
    "    d_coefs = np.float16([5.0, 6.0, 6.0, 5.0])\n",
    "    x_n, alpha, beta = calculate_x_n(a_coefs, b_coefs, c_coefs, d_coefs, n)\n",
    "    x = calculate_x_vector(x_n, alpha, beta, n)\n",
    "    print('Приближенное решение ', x)\n",
    "    print('e1 ', np.array([1.0,1.0,1.0,1.0]) - np.array(x))\n",
    "    A_matrix = np.float32([[4, 1, 0, 0],\n",
    "                [1, 4, 1, 0],\n",
    "                [0, 1, 4, 1],\n",
    "                [0, 0, 1, 4]])\n",
    "    d_new = np.dot(A_matrix, x)\n",
    "    epsilon = d_coefs - d_new\n",
    "    #print(epsilon)\n",
    "    A_inv = LA.inv(A_matrix).astype(np.float32)\n",
    "    res = np.dot(A_inv, epsilon).astype(np.float32)\n",
    "    print('e2 ', res)\n",
    "\n",
    "if __name__ == '__main__':\n",
    "    main()"
   ]
  },
  {
   "cell_type": "code",
   "execution_count": null,
   "metadata": {},
   "outputs": [],
   "source": [
    "dima = 'vredina'\n",
    "artyom = 'cringeeee!'"
   ]
  }
 ],
 "metadata": {
  "kernelspec": {
   "display_name": "Python 3.6.9 64-bit",
   "language": "python",
   "name": "python3"
  },
  "language_info": {
   "codemirror_mode": {
    "name": "ipython",
    "version": 3
   },
   "file_extension": ".py",
   "mimetype": "text/x-python",
   "name": "python",
   "nbconvert_exporter": "python",
   "pygments_lexer": "ipython3",
   "version": "3.6.9"
  },
  "orig_nbformat": 4,
  "vscode": {
   "interpreter": {
    "hash": "31f2aee4e71d21fbe5cf8b01ff0e069b9275f58929596ceb00d14d90e3e16cd6"
   }
  }
 },
 "nbformat": 4,
 "nbformat_minor": 2
}
