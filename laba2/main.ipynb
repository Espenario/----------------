{
 "cells": [
  {
   "cell_type": "code",
   "execution_count": 4,
   "metadata": {},
   "outputs": [],
   "source": [
    "import math"
   ]
  },
  {
   "cell_type": "code",
   "execution_count": 5,
   "metadata": {},
   "outputs": [
    {
     "name": "stdout",
     "output_type": "stream",
     "text": [
      "rectange_method n = 4 h/2 = 0.9345888125210384 h/2 + r = 0.938369252761215 number of steps= 2\n",
      "trapeze_method n = 4 h/2 = 0.9345888125210384 h/2 + r = 0.938369252761215 number of steps= 2\n",
      "simpson_method n = 2 h/2 = 0.9232474918005087 h/2 + r = 0.9262918204611844 number of steps= 1\n"
     ]
    }
   ],
   "source": [
    "#import numpy as np\n",
    "\n",
    "def analizing_function(x):\n",
    "    return 2*x*math.cos(x/2)\n",
    "\n",
    "\n",
    "def rectange_method(a, b, n):\n",
    "    h = (b - a) / n\n",
    "    sum = 0.0\n",
    "    for i in range(1, n+1):\n",
    "        sum += (analizing_function(a + (i-1)*h) + analizing_function(a + i*h)) / 2\n",
    "    return sum * h\n",
    "\n",
    "\n",
    "def trapeze_method(a, b, n):\n",
    "    h = (b - a) / n\n",
    "    #print((b-a), n, (b - a) / n)\n",
    "    sum = 0.0\n",
    "    for i in range(1, n):\n",
    "        sum += analizing_function(a + i*h)\n",
    "    return (sum + (analizing_function(a) + analizing_function(b)) / 2) * h\n",
    "\n",
    "\n",
    "def simpson_method(a, b, n):\n",
    "    h = (b - a) / n\n",
    "    sum = 0.0\n",
    "    for i in range(1, n+1):\n",
    "        f_xi = analizing_function(a + i*h)\n",
    "        f_xi_m = (analizing_function(a + (i-1)*h) + analizing_function(a + i*h)) / 2\n",
    "        f_xi_minus = analizing_function(a + (i-1)*h)\n",
    "        sum += f_xi + 4*f_xi_m + f_xi_minus\n",
    "    return sum * h / 6\n",
    "\n",
    "\n",
    "def calculate_Richardson(i_h_div2, i_h, method):\n",
    "    if method.__name__ == 'simpson_method':\n",
    "        return (i_h_div2 - i_h) / 15\n",
    "    return (i_h_div2 - i_h) / 3\n",
    "\n",
    "\n",
    "def perform_computation(a, b, method):\n",
    "    integral_values = {}\n",
    "    epsilon = 1e-1\n",
    "    n = 1\n",
    "    num_steps = 0\n",
    "    integral_values[(b - a) / n] = method(a, b, n)\n",
    "    while True:\n",
    "        n *= 2\n",
    "        integral_values[(b - a) / n] = method(a, b, n)\n",
    "        #print(integral_values[(b - a) / n], integral_values[(b - a) / (n / 2)])\n",
    "        r = calculate_Richardson(integral_values[(b - a) / n], integral_values[(b - a) / (n / 2)], method)\n",
    "        #print(r)\n",
    "        num_steps += 1\n",
    "        if r < epsilon and r > -epsilon:\n",
    "            break\n",
    "    return method.__name__, n, integral_values[(b - a) / (n)], r + integral_values[(b - a) / (n)], num_steps\n",
    "\n",
    "\n",
    "def main():\n",
    "\n",
    "    method_name, n, i, i_plus_r, num_steps = perform_computation(0, 1, rectange_method)\n",
    "    print(method_name, \"n =\",n, \"h/2 =\", i, \"h/2 + r =\", i_plus_r, \"number of steps=\", num_steps)\n",
    "\n",
    "    method_name, n, i, i_plus_r, num_steps = perform_computation(0, 1, trapeze_method)\n",
    "    print(method_name, \"n =\",n, \"h/2 =\", i, \"h/2 + r =\", i_plus_r, \"number of steps=\", num_steps)\n",
    "\n",
    "    method_name, n, i, i_plus_r, num_steps = perform_computation(0, 1, simpson_method)\n",
    "    print(method_name, \"n =\",n, \"h/2 =\", i, \"h/2 + r =\", i_plus_r, \"number of steps=\", num_steps)\n",
    "\n",
    "\n",
    "if __name__ == '__main__':\n",
    "    main()"
   ]
  }
 ],
 "metadata": {
  "kernelspec": {
   "display_name": "Python 3.6.9 64-bit",
   "language": "python",
   "name": "python3"
  },
  "language_info": {
   "codemirror_mode": {
    "name": "ipython",
    "version": 3
   },
   "file_extension": ".py",
   "mimetype": "text/x-python",
   "name": "python",
   "nbconvert_exporter": "python",
   "pygments_lexer": "ipython3",
   "version": "3.6.9"
  },
  "orig_nbformat": 4,
  "vscode": {
   "interpreter": {
    "hash": "31f2aee4e71d21fbe5cf8b01ff0e069b9275f58929596ceb00d14d90e3e16cd6"
   }
  }
 },
 "nbformat": 4,
 "nbformat_minor": 2
}
