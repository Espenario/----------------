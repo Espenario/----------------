{
 "cells": [
  {
   "cell_type": "code",
   "execution_count": 1,
   "metadata": {},
   "outputs": [],
   "source": [
    "import numpy as np\n"
   ]
  },
  {
   "cell_type": "code",
   "execution_count": 2,
   "metadata": {},
   "outputs": [],
   "source": [
    "def calculate_x_n(a, b, c, d, n):\n",
    "    #alpha = [0.0] * n\n",
    "    #beta = [0.0] * n\n",
    "    alpha = np.zeros(n)\n",
    "    beta = np.zeros(n)    \n",
    "    alpha[0] = -c[0] / b[0]\n",
    "    beta[0] = d[0] / b[0]\n",
    "    for i in range(1,n-1):\n",
    "        #print(i)\n",
    "        alpha[i] = -c[i] / (a[i-1]*alpha[i-1] + b[i])\n",
    "        beta[i] = (d[i] - a[i-1]*beta[i-1]) / (a[i-1]*alpha[i-1] + b[i])\n",
    "    x_n = (d[n-1] - a[n-2]*beta[n-2]) / (a[n-2]*alpha[n-2] + b[n-1])\n",
    "    #print(alpha, beta)\n",
    "    return x_n, alpha, beta\n",
    "\n",
    "def calculate_x_vector(x_n, alpha, beta, n):\n",
    "    x = [0.0] * (n-1)\n",
    "    x.append(x_n)\n",
    "    for i in range(n-2, -1, -1):\n",
    "        x[i] = alpha[i]*x[i+1] + beta[i]\n",
    "    return x"
   ]
  },
  {
   "cell_type": "code",
   "execution_count": 3,
   "metadata": {},
   "outputs": [],
   "source": [
    "def func(x):\n",
    "    return np.exp(x)"
   ]
  },
  {
   "cell_type": "code",
   "execution_count": 7,
   "metadata": {},
   "outputs": [
    {
     "name": "stdout",
     "output_type": "stream",
     "text": [
      "a_coefs:  [0.95 0.95 0.95 0.95 0.95 0.95 0.95 0.95]\n",
      "b_coefs:  [-2.01 -2.01 -2.01 -2.01 -2.01 -2.01 -2.01 -2.01 -2.01]\n",
      "c_coefs:  [1.05 1.05 1.05 1.05 1.05 1.05 1.05 1.05]\n",
      "d_coefs:  [-0.93894829  0.01221403  0.01349859  0.01491825  0.01648721  0.01822119\n",
      "  0.02013753  0.02225541 -2.82959989]\n"
     ]
    }
   ],
   "source": [
    "\n",
    "n = 10\n",
    "left_b = 0\n",
    "right_b = 1\n",
    "h = (right_b - left_b) / n\n",
    "\n",
    "x = np.arange(left_b, right_b + h/2, h)\n",
    "y = func(x)\n",
    "\n",
    "a_coefs = np.array([0.0] +  np.ones(n-2) - (h/2)*np.ones(n-2))\n",
    "b_coefs = -1 * h**2 * np.ones(n-1) - 2*np.ones(n-1)\n",
    "c_coefs = np.ones(n-2) + (h/2)*np.ones(n-2)\n",
    "d_coefs = y[1:-1] * h**2 \n",
    "\n",
    "y0 = func(left_b)\n",
    "yn = func(right_b)\n",
    "\n",
    "d_coefs[0] -= a_coefs[1] * y0\n",
    "d_coefs[-1] -= c_coefs[0] * yn\n",
    "\n",
    "print('a_coefs: ',a_coefs)\n",
    "print('b_coefs: ',b_coefs)\n",
    "print('c_coefs: ',c_coefs)\n",
    "print('d_coefs: ',d_coefs)\n"
   ]
  },
  {
   "cell_type": "code",
   "execution_count": 10,
   "metadata": {},
   "outputs": [
    {
     "name": "stdout",
     "output_type": "stream",
     "text": [
      "Приближенное решение  [1.1053447081380232, 1.2217091167030314, 1.3502589327843548, 1.4922813162899364, 1.6491978157848073, 1.8225786399609751, 2.014158408885617, 2.225853543782731, 2.4597814703303595]\n"
     ]
    }
   ],
   "source": [
    "x_n, alpha, beta = calculate_x_n(a_coefs, b_coefs, c_coefs, d_coefs, n-1)\n",
    "x = calculate_x_vector(x_n, alpha, beta, n-1)\n",
    "print('Приближенное решение ', x)"
   ]
  },
  {
   "cell_type": "code",
   "execution_count": 12,
   "metadata": {},
   "outputs": [
    {
     "data": {
      "text/plain": [
       "array([1.        , 1.10534471, 1.22170912, 1.35025893, 1.49228132,\n",
       "       1.64919782, 1.82257864, 2.01415841, 2.22585354, 2.45978147,\n",
       "       2.71828183])"
      ]
     },
     "execution_count": 12,
     "metadata": {},
     "output_type": "execute_result"
    }
   ],
   "source": [
    "final_solution = np.concatenate(([y0], x, [yn]))\n",
    "final_solution"
   ]
  },
  {
   "cell_type": "code",
   "execution_count": 14,
   "metadata": {},
   "outputs": [
    {
     "data": {
      "text/plain": [
       "array([0.        , 0.00017379, 0.00030636, 0.00040013, 0.00045662,\n",
       "       0.00047655, 0.00045984, 0.0004057 , 0.00031262, 0.00017836,\n",
       "       0.        ])"
      ]
     },
     "execution_count": 14,
     "metadata": {},
     "output_type": "execute_result"
    }
   ],
   "source": [
    "delta = np.abs(y - final_solution)\n",
    "delta"
   ]
  },
  {
   "cell_type": "code",
   "execution_count": null,
   "metadata": {},
   "outputs": [],
   "source": [
    "for i in range(len(delta)):\n",
    "    print(\"y=\", y[i], \" | apr_sol=\", final_solution[i], \" | delta=\", delta[i])"
   ]
  }
 ],
 "metadata": {
  "kernelspec": {
   "display_name": "Python 3",
   "language": "python",
   "name": "python3"
  },
  "language_info": {
   "codemirror_mode": {
    "name": "ipython",
    "version": 3
   },
   "file_extension": ".py",
   "mimetype": "text/x-python",
   "name": "python",
   "nbconvert_exporter": "python",
   "pygments_lexer": "ipython3",
   "version": "3.9.12"
  },
  "orig_nbformat": 4
 },
 "nbformat": 4,
 "nbformat_minor": 2
}
