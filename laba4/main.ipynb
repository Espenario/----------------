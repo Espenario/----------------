{
 "cells": [
  {
   "cell_type": "code",
   "execution_count": 182,
   "metadata": {},
   "outputs": [],
   "source": [
    "import numpy as np\n"
   ]
  },
  {
   "cell_type": "code",
   "execution_count": 183,
   "metadata": {},
   "outputs": [],
   "source": [
    "def calculate_x_n(a, b, c, d, n):\n",
    "    #alpha = [0.0] * n\n",
    "    #beta = [0.0] * n\n",
    "    alpha = np.zeros(n)\n",
    "    beta = np.zeros(n)    \n",
    "    alpha[0] = -c[0] / b[0]\n",
    "    beta[0] = d[0] / b[0]\n",
    "    for i in range(1,n-1):\n",
    "        #print(i)\n",
    "        alpha[i] = -c[i] / (a[i-1]*alpha[i-1] + b[i])\n",
    "        beta[i] = (d[i] - a[i-1]*beta[i-1]) / (a[i-1]*alpha[i-1] + b[i])\n",
    "    x_n = (d[n-1] - a[n-2]*beta[n-2]) / (a[n-2]*alpha[n-2] + b[n-1])\n",
    "    #print(alpha, beta)\n",
    "    return x_n, alpha, beta\n",
    "\n",
    "def calculate_x_vector(x_n, alpha, beta, n):\n",
    "    x = [0.0] * (n-1)\n",
    "    x.append(x_n)\n",
    "    for i in range(n-2, -1, -1):\n",
    "        x[i] = alpha[i]*x[i+1] + beta[i]\n",
    "    return x"
   ]
  },
  {
   "cell_type": "code",
   "execution_count": 184,
   "metadata": {},
   "outputs": [],
   "source": [
    "def func(x):\n",
    "    return 2 * (1 - x)\n",
    "\n",
    "def func1(x):\n",
    "    return x**2 + np.exp(x)"
   ]
  },
  {
   "cell_type": "code",
   "execution_count": 185,
   "metadata": {},
   "outputs": [
    {
     "name": "stdout",
     "output_type": "stream",
     "text": [
      "a_coefs:  [1.05 1.05 1.05 1.05 1.05 1.05 1.05 1.05]\n",
      "b_coefs:  [-2. -2. -2. -2. -2. -2. -2. -2. -2.]\n",
      "c_coefs:  [0.95 0.95 0.95 0.95 0.95 0.95 0.95 0.95]\n",
      "d_coefs:  [-1.032       0.016       0.014       0.012       0.01        0.008\n",
      "  0.006       0.004      -3.53036774]\n"
     ]
    }
   ],
   "source": [
    "\n",
    "n = 10\n",
    "left_b = 0\n",
    "right_b = 1\n",
    "h = (right_b - left_b) / n\n",
    "\n",
    "x = np.arange(left_b, right_b + h/2, h)\n",
    "y = func(x)\n",
    "\n",
    "y_verify = func1(x)\n",
    "\n",
    "p = -1\n",
    "q = 0\n",
    "a_coefs = np.array([0.0] +  np.ones(n-2) - p * (h/2)*np.ones(n-2))\n",
    "b_coefs = q * h**2 * np.ones(n-1) - 2*np.ones(n-1)\n",
    "c_coefs = np.ones(n-2) + (h/2)*np.ones(n-2) * p\n",
    "d_coefs = y[1:-1] * h**2\n",
    "\n",
    "y0 = 1\n",
    "yn = 1 + np.exp(1)\n",
    "\n",
    "d_coefs[0] -= a_coefs[1] * y0\n",
    "d_coefs[-1] -= c_coefs[0] * yn\n",
    "\n",
    "print('a_coefs: ',a_coefs)\n",
    "print('b_coefs: ',b_coefs)\n",
    "print('c_coefs: ',c_coefs)\n",
    "print('d_coefs: ',d_coefs)\n"
   ]
  },
  {
   "cell_type": "code",
   "execution_count": 186,
   "metadata": {},
   "outputs": [
    {
     "name": "stdout",
     "output_type": "stream",
     "text": [
      "Приближенное решение  [1.1151243048735462, 1.261314326049571, 1.4397348757704407, 1.651673378093507, 1.8985527753979483, 2.1819457934712783, 2.503590708183906, 2.8654087718136525, 3.269523473720214]\n"
     ]
    }
   ],
   "source": [
    "x_n, alpha, beta = calculate_x_n(a_coefs, b_coefs, c_coefs, d_coefs, n-1)\n",
    "x = calculate_x_vector(x_n, alpha, beta, n-1)\n",
    "print('Приближенное решение ', x)"
   ]
  },
  {
   "cell_type": "code",
   "execution_count": 187,
   "metadata": {},
   "outputs": [
    {
     "data": {
      "text/plain": [
       "array([1.        , 1.1151243 , 1.26131433, 1.43973488, 1.65167338,\n",
       "       1.89855278, 2.18194579, 2.50359071, 2.86540877, 3.26952347,\n",
       "       3.71828183])"
      ]
     },
     "execution_count": 187,
     "metadata": {},
     "output_type": "execute_result"
    }
   ],
   "source": [
    "final_solution = np.concatenate(([y0], x, [yn]))\n",
    "final_solution"
   ]
  },
  {
   "cell_type": "code",
   "execution_count": 188,
   "metadata": {},
   "outputs": [
    {
     "data": {
      "text/plain": [
       "array([0.00000000e+00, 4.66132021e-05, 8.84321106e-05, 1.23931806e-04,\n",
       "       1.51319548e-04, 1.68495302e-04, 1.73006919e-04, 1.61999287e-04,\n",
       "       1.32156679e-04, 7.96374367e-05, 0.00000000e+00])"
      ]
     },
     "execution_count": 188,
     "metadata": {},
     "output_type": "execute_result"
    }
   ],
   "source": [
    "delta = np.abs(y_verify - final_solution)\n",
    "delta"
   ]
  },
  {
   "cell_type": "code",
   "execution_count": 189,
   "metadata": {},
   "outputs": [
    {
     "name": "stdout",
     "output_type": "stream",
     "text": [
      "y= 1.0  | apr_sol= 1.0  | delta= 0.0\n",
      "y= 1.1151709180756477  | apr_sol= 1.1151243048735462  | delta= 4.661320210153086e-05\n",
      "y= 1.26140275816017  | apr_sol= 1.261314326049571  | delta= 8.843211059894607e-05\n",
      "y= 1.4398588075760033  | apr_sol= 1.4397348757704407  | delta= 0.00012393180556258265\n",
      "y= 1.6518246976412705  | apr_sol= 1.651673378093507  | delta= 0.00015131954776359535\n",
      "y= 1.8987212707001282  | apr_sol= 1.8985527753979483  | delta= 0.00016849530217988296\n",
      "y= 2.1821188003905094  | apr_sol= 2.1819457934712783  | delta= 0.00017300691923116673\n",
      "y= 2.503752707470477  | apr_sol= 2.503590708183906  | delta= 0.00016199928657067986\n",
      "y= 2.865540928492468  | apr_sol= 2.8654087718136525  | delta= 0.0001321566788154982\n",
      "y= 3.26960311115695  | apr_sol= 3.269523473720214  | delta= 7.963743673577994e-05\n",
      "y= 3.718281828459045  | apr_sol= 3.718281828459045  | delta= 0.0\n"
     ]
    }
   ],
   "source": [
    "for i in range(len(delta)):\n",
    "    print(\"y=\", y_verify[i], \" | apr_sol=\", final_solution[i], \" | delta=\", delta[i])"
   ]
  },
  {
   "cell_type": "code",
   "execution_count": 190,
   "metadata": {},
   "outputs": [],
   "source": [
    "A = 1\n",
    "D_0 = A\n",
    "D_1 = h\n",
    "p = -1\n",
    "q = 0\n",
    "\n",
    "y_0 = np.zeros(n+1)\n",
    "y_1 = np.zeros(n+1)\n",
    "y_0[0] = 1\n",
    "y_0[1] = 1\n",
    "y_1[0] = 0\n",
    "y_1[1] = h"
   ]
  },
  {
   "cell_type": "code",
   "execution_count": 191,
   "metadata": {},
   "outputs": [
    {
     "data": {
      "text/plain": [
       "array([1.        , 1.        , 1.01894737, 1.0567313 , 1.11322933,\n",
       "       1.18830611, 1.28181201, 1.3935817 , 1.5234324 , 1.67116213,\n",
       "       1.83654762])"
      ]
     },
     "execution_count": 191,
     "metadata": {},
     "output_type": "execute_result"
    }
   ],
   "source": [
    "for i in range(1, n):\n",
    "    y_0[i+1] = (y[i] * h**2 + (2 - q * h**2) * y_0[i] - (1 - p * h/2) * y_0[i-1]) / (1 + p * h/2)\n",
    "    y_1[i+1] = ((2 - q * h**2) * y_1[i] - (1 - p * h/2) * y_1[i-1]) / (1 + p * h/2)\n",
    "y_0"
   ]
  },
  {
   "cell_type": "code",
   "execution_count": 192,
   "metadata": {},
   "outputs": [
    {
     "data": {
      "text/plain": [
       "array([1.        , 1.1151243 , 1.26131433, 1.43973488, 1.65167338,\n",
       "       1.89855278, 2.18194579, 2.50359071, 2.86540877, 3.26952347,\n",
       "       3.71828183])"
      ]
     },
     "execution_count": 192,
     "metadata": {},
     "output_type": "execute_result"
    }
   ],
   "source": [
    "B = 1 + np.exp(1)\n",
    "C1 = (B - y_0[-1]) / y_1[-1]\n",
    "y_final = y_0 + C1*y_1\n",
    "y_final"
   ]
  },
  {
   "cell_type": "code",
   "execution_count": 193,
   "metadata": {},
   "outputs": [],
   "source": [
    "delta = np.abs(y_verify - y_final)"
   ]
  },
  {
   "cell_type": "code",
   "execution_count": 194,
   "metadata": {},
   "outputs": [
    {
     "name": "stdout",
     "output_type": "stream",
     "text": [
      "y= 1.0  | apr_sol= 1.0  | delta= 0.0\n",
      "y= 1.1151709180756477  | apr_sol= 1.1151243048735464  | delta= 4.6613202101308815e-05\n",
      "y= 1.26140275816017  | apr_sol= 1.261314326049571  | delta= 8.843211059894607e-05\n",
      "y= 1.4398588075760033  | apr_sol= 1.4397348757704405  | delta= 0.0001239318055628047\n",
      "y= 1.6518246976412705  | apr_sol= 1.6516733780935065  | delta= 0.00015131954776403944\n",
      "y= 1.8987212707001282  | apr_sol= 1.898552775397948  | delta= 0.000168495302180105\n",
      "y= 2.1821188003905094  | apr_sol= 2.181945793471278  | delta= 0.00017300691923161082\n",
      "y= 2.503752707470477  | apr_sol= 2.5035907081839053  | delta= 0.00016199928657156804\n",
      "y= 2.865540928492468  | apr_sol= 2.8654087718136516  | delta= 0.00013215667881638637\n",
      "y= 3.26960311115695  | apr_sol= 3.2695234737202137  | delta= 7.963743673622403e-05\n",
      "y= 3.718281828459045  | apr_sol= 3.7182818284590446  | delta= 4.440892098500626e-16\n"
     ]
    }
   ],
   "source": [
    "for i in range(len(delta)):\n",
    "    print(\"y=\", y_verify[i], \" | apr_sol=\", y_final[i], \" | delta=\", delta[i])"
   ]
  }
 ],
 "metadata": {
  "kernelspec": {
   "display_name": "Python 3",
   "language": "python",
   "name": "python3"
  },
  "language_info": {
   "codemirror_mode": {
    "name": "ipython",
    "version": 3
   },
   "file_extension": ".py",
   "mimetype": "text/x-python",
   "name": "python",
   "nbconvert_exporter": "python",
   "pygments_lexer": "ipython3",
   "version": "3.9.12"
  },
  "orig_nbformat": 4
 },
 "nbformat": 4,
 "nbformat_minor": 2
}
