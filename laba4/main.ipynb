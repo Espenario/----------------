{
 "cells": [
  {
   "cell_type": "code",
   "execution_count": 1,
   "metadata": {},
   "outputs": [],
   "source": [
    "import numpy as np\n"
   ]
  },
  {
   "cell_type": "code",
   "execution_count": 2,
   "metadata": {},
   "outputs": [],
   "source": [
    "def calculate_x_n(a, b, c, d, n):\n",
    "    #alpha = [0.0] * n\n",
    "    #beta = [0.0] * n\n",
    "    alpha = np.zeros(n)\n",
    "    beta = np.zeros(n)    \n",
    "    alpha[0] = -c[0] / b[0]\n",
    "    beta[0] = d[0] / b[0]\n",
    "    for i in range(1,n-1):\n",
    "        #print(i)\n",
    "        alpha[i] = -c[i] / (a[i-1]*alpha[i-1] + b[i])\n",
    "        beta[i] = (d[i] - a[i-1]*beta[i-1]) / (a[i-1]*alpha[i-1] + b[i])\n",
    "    x_n = (d[n-1] - a[n-2]*beta[n-2]) / (a[n-2]*alpha[n-2] + b[n-1])\n",
    "    #print(alpha, beta)\n",
    "    return x_n, alpha, beta\n",
    "\n",
    "def calculate_x_vector(x_n, alpha, beta, n):\n",
    "    x = [0.0] * (n-1)\n",
    "    x.append(x_n)\n",
    "    for i in range(n-2, -1, -1):\n",
    "        x[i] = alpha[i]*x[i+1] + beta[i]\n",
    "    return x"
   ]
  },
  {
   "cell_type": "code",
   "execution_count": 20,
   "metadata": {},
   "outputs": [
    {
     "name": "stdout",
     "output_type": "stream",
     "text": [
      "a_coefs:  [0.95 0.95 0.95 0.95 0.95 0.95 0.95 0.95 0.95]\n",
      "b_coefs:  [-2.01 -2.01 -2.01 -2.01 -2.01 -2.01 -2.01 -2.01 -2.01 -2.01]\n",
      "c_coefs:  [1.05 1.05 1.05 1.05 1.05 1.05 1.05 1.05 1.05]\n",
      "d_coefs:  [0.01       0.01105171 0.01221403 0.01349859 0.01491825 0.01648721\n",
      " 0.01822119 0.02013753 0.02225541 0.02459603]\n"
     ]
    }
   ],
   "source": [
    "\n",
    "n = 10\n",
    "a = 1\n",
    "b = np.exp\n",
    "h = 1 / n\n",
    "a_coefs = np.ones(n-1) - (h/2)*np.ones(n-1)\n",
    "b_coefs = -1 * h**2 * np.ones(n) - 2*np.ones(n)\n",
    "c_coefs = np.ones(n-1) + (h/2)*np.ones(n-1)\n",
    "d_coefs = np.ones(n) * h**2 * np.exp(np.arange(0,1,h))\n",
    "print('a_coefs: ',a_coefs)\n",
    "print('b_coefs: ',b_coefs)\n",
    "print('c_coefs: ',c_coefs)\n",
    "print('d_coefs: ',d_coefs)\n"
   ]
  },
  {
   "cell_type": "code",
   "execution_count": 21,
   "metadata": {},
   "outputs": [
    {
     "name": "stdout",
     "output_type": "stream",
     "text": [
      "Приближенное решение  [-0.07253665858823143, -0.12933207977366204, -0.1714247100052232, -0.19950872737515993, -0.21396236137461844, -0.21486934131444613, -0.20203420955156937, -0.17499209423430998, -0.1330134126307308, -0.07510386721928547]\n"
     ]
    }
   ],
   "source": [
    "x_n, alpha, beta = calculate_x_n(a_coefs, b_coefs, c_coefs, d_coefs, n)\n",
    "x = calculate_x_vector(x_n, alpha, beta, n)\n",
    "print('Приближенное решение ', x)"
   ]
  }
 ],
 "metadata": {
  "kernelspec": {
   "display_name": "Python 3",
   "language": "python",
   "name": "python3"
  },
  "language_info": {
   "codemirror_mode": {
    "name": "ipython",
    "version": 3
   },
   "file_extension": ".py",
   "mimetype": "text/x-python",
   "name": "python",
   "nbconvert_exporter": "python",
   "pygments_lexer": "ipython3",
   "version": "3.6.9"
  },
  "orig_nbformat": 4
 },
 "nbformat": 4,
 "nbformat_minor": 2
}
