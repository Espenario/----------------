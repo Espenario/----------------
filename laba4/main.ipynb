{
 "cells": [
  {
   "cell_type": "code",
   "execution_count": 87,
   "metadata": {},
   "outputs": [],
   "source": [
    "import numpy as np\n"
   ]
  },
  {
   "cell_type": "code",
   "execution_count": 88,
   "metadata": {},
   "outputs": [],
   "source": [
    "def calculate_x_n(a, b, c, d, n):\n",
    "    #alpha = [0.0] * n\n",
    "    #beta = [0.0] * n\n",
    "    alpha = np.zeros(n)\n",
    "    beta = np.zeros(n)    \n",
    "    alpha[0] = -c[0] / b[0]\n",
    "    beta[0] = d[0] / b[0]\n",
    "    for i in range(1,n-1):\n",
    "        #print(i)\n",
    "        alpha[i] = -c[i] / (a[i-1]*alpha[i-1] + b[i])\n",
    "        beta[i] = (d[i] - a[i-1]*beta[i-1]) / (a[i-1]*alpha[i-1] + b[i])\n",
    "    x_n = (d[n-1] - a[n-2]*beta[n-2]) / (a[n-2]*alpha[n-2] + b[n-1])\n",
    "    #print(alpha, beta)\n",
    "    return x_n, alpha, beta\n",
    "\n",
    "def calculate_x_vector(x_n, alpha, beta, n):\n",
    "    x = [0.0] * (n-1)\n",
    "    x.append(x_n)\n",
    "    for i in range(n-2, -1, -1):\n",
    "        x[i] = alpha[i]*x[i+1] + beta[i]\n",
    "    return x"
   ]
  },
  {
   "cell_type": "code",
   "execution_count": 89,
   "metadata": {},
   "outputs": [],
   "source": [
    "def func(x):\n",
    "    return np.exp(x)\n",
    "\n",
    "def func1(x):\n",
    "    return x**2 + np.exp(x)"
   ]
  },
  {
   "cell_type": "code",
   "execution_count": 90,
   "metadata": {},
   "outputs": [
    {
     "name": "stdout",
     "output_type": "stream",
     "text": [
      "a_coefs:  [0.95 0.95 0.95 0.95 0.95 0.95 0.95 0.95]\n",
      "b_coefs:  [-2.01 -2.01 -2.01 -2.01 -2.01 -2.01 -2.01 -2.01 -2.01]\n",
      "c_coefs:  [1.05 1.05 1.05 1.05 1.05 1.05 1.05 1.05]\n",
      "d_coefs:  [-0.93894829  0.01221403  0.01349859  0.01491825  0.01648721  0.01822119\n",
      "  0.02013753  0.02225541 -2.82959989]\n"
     ]
    }
   ],
   "source": [
    "\n",
    "n = 10\n",
    "left_b = 0\n",
    "right_b = 1\n",
    "h = (right_b - left_b) / n\n",
    "\n",
    "x = np.arange(left_b, right_b + h/2, h)\n",
    "y = func(x)\n",
    "\n",
    "y_verify = func(x)\n",
    "\n",
    "p = 1\n",
    "q = -1\n",
    "a_coefs = np.array([0.0] +  np.ones(n-2) - p * (h/2)*np.ones(n-2))\n",
    "b_coefs = q * h**2 * np.ones(n-1) - 2*np.ones(n-1)\n",
    "c_coefs = np.ones(n-2) + (h/2)*np.ones(n-2) * p\n",
    "d_coefs = y[1:-1] * h**2\n",
    "\n",
    "y0 = 1\n",
    "yn = np.exp(1)\n",
    "\n",
    "d_coefs[0] -= a_coefs[1] * y0\n",
    "d_coefs[-1] -= c_coefs[0] * yn\n",
    "\n",
    "print('a_coefs: ',a_coefs)\n",
    "print('b_coefs: ',b_coefs)\n",
    "print('c_coefs: ',c_coefs)\n",
    "print('d_coefs: ',d_coefs)\n"
   ]
  },
  {
   "cell_type": "code",
   "execution_count": 91,
   "metadata": {},
   "outputs": [
    {
     "name": "stdout",
     "output_type": "stream",
     "text": [
      "Приближенное решение  [1.1053447081380232, 1.2217091167030314, 1.3502589327843548, 1.4922813162899364, 1.6491978157848073, 1.8225786399609751, 2.014158408885617, 2.225853543782731, 2.4597814703303595]\n"
     ]
    }
   ],
   "source": [
    "x_n, alpha, beta = calculate_x_n(a_coefs, b_coefs, c_coefs, d_coefs, n-1)\n",
    "x = calculate_x_vector(x_n, alpha, beta, n-1)\n",
    "print('Приближенное решение ', x)"
   ]
  },
  {
   "cell_type": "code",
   "execution_count": 92,
   "metadata": {},
   "outputs": [
    {
     "data": {
      "text/plain": [
       "array([1.        , 1.10534471, 1.22170912, 1.35025893, 1.49228132,\n",
       "       1.64919782, 1.82257864, 2.01415841, 2.22585354, 2.45978147,\n",
       "       2.71828183])"
      ]
     },
     "execution_count": 92,
     "metadata": {},
     "output_type": "execute_result"
    }
   ],
   "source": [
    "final_solution = np.concatenate(([y0], x, [yn]))\n",
    "final_solution"
   ]
  },
  {
   "cell_type": "code",
   "execution_count": 93,
   "metadata": {},
   "outputs": [
    {
     "data": {
      "text/plain": [
       "array([0.        , 0.00017379, 0.00030636, 0.00040013, 0.00045662,\n",
       "       0.00047655, 0.00045984, 0.0004057 , 0.00031262, 0.00017836,\n",
       "       0.        ])"
      ]
     },
     "execution_count": 93,
     "metadata": {},
     "output_type": "execute_result"
    }
   ],
   "source": [
    "delta = np.abs(y_verify - final_solution)\n",
    "delta"
   ]
  },
  {
   "cell_type": "code",
   "execution_count": 94,
   "metadata": {},
   "outputs": [
    {
     "name": "stdout",
     "output_type": "stream",
     "text": [
      "y= 1.0  | apr_sol= 1.0  | delta= 0.0\n",
      "y= 1.1051709180756477  | apr_sol= 1.1053447081380232  | delta= 0.00017379006237550065\n",
      "y= 1.2214027581601699  | apr_sol= 1.2217091167030314  | delta= 0.0003063585428615401\n",
      "y= 1.3498588075760032  | apr_sol= 1.3502589327843548  | delta= 0.00040012520835164267\n",
      "y= 1.4918246976412703  | apr_sol= 1.4922813162899364  | delta= 0.00045661864866608504\n",
      "y= 1.6487212707001282  | apr_sol= 1.6491978157848073  | delta= 0.00047654508467909196\n",
      "y= 1.822118800390509  | apr_sol= 1.8225786399609751  | delta= 0.0004598395704660252\n",
      "y= 2.0137527074704766  | apr_sol= 2.014158408885617  | delta= 0.0004057014151404026\n",
      "y= 2.225540928492468  | apr_sol= 2.225853543782731  | delta= 0.00031261529026327395\n",
      "y= 2.45960311115695  | apr_sol= 2.4597814703303595  | delta= 0.00017835917340969232\n",
      "y= 2.718281828459045  | apr_sol= 2.718281828459045  | delta= 0.0\n"
     ]
    }
   ],
   "source": [
    "for i in range(len(delta)):\n",
    "    print(\"y=\", y_verify[i], \" | apr_sol=\", final_solution[i], \" | delta=\", delta[i])"
   ]
  },
  {
   "cell_type": "code",
   "execution_count": 95,
   "metadata": {},
   "outputs": [],
   "source": [
    "A = 1\n",
    "D_0 = A\n",
    "D_1 = h\n",
    "p = 1\n",
    "q = -1\n",
    "\n",
    "y_0 = np.zeros(n+1)\n",
    "y_1 = np.zeros(n+1)\n",
    "y_0[0] = 1\n",
    "y_0[1] = 1\n",
    "y_1[0] = 0\n",
    "y_1[1] = 10*h"
   ]
  },
  {
   "cell_type": "code",
   "execution_count": 96,
   "metadata": {},
   "outputs": [
    {
     "data": {
      "text/plain": [
       "array([1.        , 1.        , 1.02004925, 1.0595362 , 1.11820912,\n",
       "       1.1961516 , 1.29376501, 1.411757  , 1.55113555, 1.71320831,\n",
       "       1.89958662])"
      ]
     },
     "execution_count": 96,
     "metadata": {},
     "output_type": "execute_result"
    }
   ],
   "source": [
    "for i in range(1, n):\n",
    "    y_0[i+1] = (y[i] * h**2 + (2 - q * h**2) * y_0[i] - (1 - p * h/2) * y_0[i-1]) / (1 + p * h/2)\n",
    "    y_1[i+1] = ((2 - q * h**2) * y_1[i] - (1 - p * h/2) * y_1[i-1]) / (1 + p * h/2)\n",
    "y_0"
   ]
  },
  {
   "cell_type": "code",
   "execution_count": 97,
   "metadata": {},
   "outputs": [
    {
     "data": {
      "text/plain": [
       "array([1.        , 1.10534471, 1.22170912, 1.35025893, 1.49228132,\n",
       "       1.64919782, 1.82257864, 2.01415841, 2.22585354, 2.45978147,\n",
       "       2.71828183])"
      ]
     },
     "execution_count": 97,
     "metadata": {},
     "output_type": "execute_result"
    }
   ],
   "source": [
    "B = np.exp(1)\n",
    "C1 = (B - y_0[-1]) / y_1[-1]\n",
    "y_final = y_0 + C1*y_1\n",
    "y_final"
   ]
  },
  {
   "cell_type": "code",
   "execution_count": 98,
   "metadata": {},
   "outputs": [],
   "source": [
    "delta = np.abs(y_verify - y_final)"
   ]
  },
  {
   "cell_type": "code",
   "execution_count": 99,
   "metadata": {},
   "outputs": [
    {
     "name": "stdout",
     "output_type": "stream",
     "text": [
      "y= 1.0  | apr_sol= 1.0  | delta= 0.0\n",
      "y= 1.1051709180756477  | apr_sol= 1.1053447081380228  | delta= 0.00017379006237505656\n",
      "y= 1.2214027581601699  | apr_sol= 1.2217091167030305  | delta= 0.0003063585428606519\n",
      "y= 1.3498588075760032  | apr_sol= 1.3502589327843535  | delta= 0.0004001252083503104\n",
      "y= 1.4918246976412703  | apr_sol= 1.4922813162899347  | delta= 0.0004566186486643087\n",
      "y= 1.6487212707001282  | apr_sol= 1.6491978157848055  | delta= 0.0004765450846773156\n",
      "y= 1.822118800390509  | apr_sol= 1.8225786399609736  | delta= 0.0004598395704644709\n",
      "y= 2.0137527074704766  | apr_sol= 2.0141584088856157  | delta= 0.0004057014151390703\n",
      "y= 2.225540928492468  | apr_sol= 2.2258535437827303  | delta= 0.00031261529026238577\n",
      "y= 2.45960311115695  | apr_sol= 2.4597814703303595  | delta= 0.00017835917340969232\n",
      "y= 2.718281828459045  | apr_sol= 2.718281828459045  | delta= 0.0\n"
     ]
    }
   ],
   "source": [
    "for i in range(len(delta)):\n",
    "    print(\"y=\", y_verify[i], \" | apr_sol=\", y_final[i], \" | delta=\", delta[i])"
   ]
  }
 ],
 "metadata": {
  "kernelspec": {
   "display_name": "Python 3",
   "language": "python",
   "name": "python3"
  },
  "language_info": {
   "codemirror_mode": {
    "name": "ipython",
    "version": 3
   },
   "file_extension": ".py",
   "mimetype": "text/x-python",
   "name": "python",
   "nbconvert_exporter": "python",
   "pygments_lexer": "ipython3",
   "version": "3.6.9"
  },
  "orig_nbformat": 4
 },
 "nbformat": 4,
 "nbformat_minor": 2
}
