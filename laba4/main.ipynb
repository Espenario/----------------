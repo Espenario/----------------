{
 "cells": [
  {
   "cell_type": "code",
   "execution_count": 1,
   "metadata": {},
   "outputs": [],
   "source": [
    "import numpy as np\n"
   ]
  },
  {
   "cell_type": "code",
   "execution_count": 2,
   "metadata": {},
   "outputs": [],
   "source": [
    "def calculate_x_n(a, b, c, d, n):\n",
    "    #alpha = [0.0] * n\n",
    "    #beta = [0.0] * n\n",
    "    alpha = np.zeros(n)\n",
    "    beta = np.zeros(n)    \n",
    "    alpha[0] = -c[0] / b[0]\n",
    "    beta[0] = d[0] / b[0]\n",
    "    for i in range(1,n-1):\n",
    "        #print(i)\n",
    "        alpha[i] = -c[i] / (a[i-1]*alpha[i-1] + b[i])\n",
    "        beta[i] = (d[i] - a[i-1]*beta[i-1]) / (a[i-1]*alpha[i-1] + b[i])\n",
    "    x_n = (d[n-1] - a[n-2]*beta[n-2]) / (a[n-2]*alpha[n-2] + b[n-1])\n",
    "    #print(alpha, beta)\n",
    "    return x_n, alpha, beta\n",
    "\n",
    "def calculate_x_vector(x_n, alpha, beta, n):\n",
    "    x = [0.0] * (n-1)\n",
    "    x.append(x_n)\n",
    "    for i in range(n-2, -1, -1):\n",
    "        x[i] = alpha[i]*x[i+1] + beta[i]\n",
    "    return x"
   ]
  },
  {
   "cell_type": "code",
   "execution_count": 3,
   "metadata": {},
   "outputs": [],
   "source": [
    "def func(x):\n",
    "    return np.exp(x)"
   ]
  },
  {
   "cell_type": "code",
   "execution_count": 4,
   "metadata": {},
   "outputs": [
    {
     "name": "stdout",
     "output_type": "stream",
     "text": [
      "a_coefs:  [0.95 0.95 0.95 0.95 0.95 0.95 0.95 0.95]\n",
      "b_coefs:  [-2.01 -2.01 -2.01 -2.01 -2.01 -2.01 -2.01 -2.01 -2.01]\n",
      "c_coefs:  [1.05 1.05 1.05 1.05 1.05 1.05 1.05 1.05]\n",
      "d_coefs:  [-0.93894829  0.01221403  0.01349859  0.01491825  0.01648721  0.01822119\n",
      "  0.02013753  0.02225541 -2.82959989]\n"
     ]
    }
   ],
   "source": [
    "\n",
    "n = 10\n",
    "left_b = 0\n",
    "right_b = 1\n",
    "h = (right_b - left_b) / n\n",
    "\n",
    "x = np.arange(left_b, right_b + h/2, h)\n",
    "y = func(x)\n",
    "\n",
    "a_coefs = np.array([0.0] +  np.ones(n-2) - (h/2)*np.ones(n-2))\n",
    "b_coefs = -1 * h**2 * np.ones(n-1) - 2*np.ones(n-1)\n",
    "c_coefs = np.ones(n-2) + (h/2)*np.ones(n-2)\n",
    "d_coefs = y[1:-1] * h**2 \n",
    "\n",
    "y0 = func(left_b)\n",
    "yn = func(right_b)\n",
    "\n",
    "d_coefs[0] -= a_coefs[1] * y0\n",
    "d_coefs[-1] -= c_coefs[0] * yn\n",
    "\n",
    "print('a_coefs: ',a_coefs)\n",
    "print('b_coefs: ',b_coefs)\n",
    "print('c_coefs: ',c_coefs)\n",
    "print('d_coefs: ',d_coefs)\n"
   ]
  },
  {
   "cell_type": "code",
   "execution_count": 5,
   "metadata": {},
   "outputs": [
    {
     "name": "stdout",
     "output_type": "stream",
     "text": [
      "Приближенное решение  [1.1053447081380232, 1.2217091167030314, 1.3502589327843548, 1.4922813162899364, 1.6491978157848073, 1.8225786399609751, 2.014158408885617, 2.225853543782731, 2.4597814703303595]\n"
     ]
    }
   ],
   "source": [
    "x_n, alpha, beta = calculate_x_n(a_coefs, b_coefs, c_coefs, d_coefs, n-1)\n",
    "x = calculate_x_vector(x_n, alpha, beta, n-1)\n",
    "print('Приближенное решение ', x)"
   ]
  },
  {
   "cell_type": "code",
   "execution_count": 6,
   "metadata": {},
   "outputs": [
    {
     "data": {
      "text/plain": [
       "array([1.        , 1.10534471, 1.22170912, 1.35025893, 1.49228132,\n",
       "       1.64919782, 1.82257864, 2.01415841, 2.22585354, 2.45978147,\n",
       "       2.71828183])"
      ]
     },
     "execution_count": 6,
     "metadata": {},
     "output_type": "execute_result"
    }
   ],
   "source": [
    "final_solution = np.concatenate(([y0], x, [yn]))\n",
    "final_solution"
   ]
  },
  {
   "cell_type": "code",
   "execution_count": 7,
   "metadata": {},
   "outputs": [
    {
     "data": {
      "text/plain": [
       "array([0.        , 0.00017379, 0.00030636, 0.00040013, 0.00045662,\n",
       "       0.00047655, 0.00045984, 0.0004057 , 0.00031262, 0.00017836,\n",
       "       0.        ])"
      ]
     },
     "execution_count": 7,
     "metadata": {},
     "output_type": "execute_result"
    }
   ],
   "source": [
    "delta = np.abs(y - final_solution)\n",
    "delta"
   ]
  },
  {
   "cell_type": "code",
   "execution_count": 8,
   "metadata": {},
   "outputs": [
    {
     "name": "stdout",
     "output_type": "stream",
     "text": [
      "y= 1.0  | apr_sol= 1.0  | delta= 0.0\n",
      "y= 1.1051709180756477  | apr_sol= 1.1053447081380232  | delta= 0.00017379006237550065\n",
      "y= 1.2214027581601699  | apr_sol= 1.2217091167030314  | delta= 0.0003063585428615401\n",
      "y= 1.3498588075760032  | apr_sol= 1.3502589327843548  | delta= 0.00040012520835164267\n",
      "y= 1.4918246976412703  | apr_sol= 1.4922813162899364  | delta= 0.00045661864866608504\n",
      "y= 1.6487212707001282  | apr_sol= 1.6491978157848073  | delta= 0.00047654508467909196\n",
      "y= 1.822118800390509  | apr_sol= 1.8225786399609751  | delta= 0.0004598395704660252\n",
      "y= 2.0137527074704766  | apr_sol= 2.014158408885617  | delta= 0.0004057014151404026\n",
      "y= 2.225540928492468  | apr_sol= 2.225853543782731  | delta= 0.00031261529026327395\n",
      "y= 2.45960311115695  | apr_sol= 2.4597814703303595  | delta= 0.00017835917340969232\n",
      "y= 2.718281828459045  | apr_sol= 2.718281828459045  | delta= 0.0\n"
     ]
    }
   ],
   "source": [
    "for i in range(len(delta)):\n",
    "    print(\"y=\", y[i], \" | apr_sol=\", final_solution[i], \" | delta=\", delta[i])"
   ]
  },
  {
   "cell_type": "code",
   "execution_count": 20,
   "metadata": {},
   "outputs": [
    {
     "data": {
      "text/plain": [
       "array([1. , 1.1, 1. , 1. , 1. , 1. , 1. , 1. , 1. , 1. , 1. ])"
      ]
     },
     "execution_count": 20,
     "metadata": {},
     "output_type": "execute_result"
    }
   ],
   "source": [
    "A = 1\n",
    "D_0 = A + 1e-1\n",
    "D_1 = 1e-1\n",
    "y_0 = np.concatenate(([A ,D_0], np.ones(n-1)))\n",
    "y_1 = np.concatenate(([0, D_1], np.ones(n-1)))\n",
    "y_0"
   ]
  },
  {
   "cell_type": "code",
   "execution_count": 22,
   "metadata": {},
   "outputs": [
    {
     "data": {
      "text/plain": [
       "array([1.        , 1.1       , 1.21147782, 1.33550899, 0.6983443 ,\n",
       "       1.1292907 , 1.05040689, 1.05369543, 1.05732983, 1.06134647])"
      ]
     },
     "execution_count": 22,
     "metadata": {},
     "output_type": "execute_result"
    }
   ],
   "source": [
    "y_0[2:-1] = (y[1:-2] * h**2 + (2 + h**2)*y_0[1:-2] - (1 - h/2)*y_0[:-3]) / (1 + h/2)\n",
    "y_0 = y_0[:-1]\n",
    "y_0"
   ]
  },
  {
   "cell_type": "code",
   "execution_count": 23,
   "metadata": {},
   "outputs": [
    {
     "data": {
      "text/plain": [
       "array([0.        , 0.1       , 0.19142857, 1.82380952, 1.00952381,\n",
       "       1.00952381, 1.00952381, 1.00952381, 1.00952381, 1.00952381])"
      ]
     },
     "execution_count": 23,
     "metadata": {},
     "output_type": "execute_result"
    }
   ],
   "source": [
    "y_1[2:-1] = ((2 + h**2)*y_1[1:-2] - (1 - h/2)*y_1[:-3]) / (1 + h/2)\n",
    "y_1 = y_1[:-1]\n",
    "y_1"
   ]
  },
  {
   "cell_type": "code",
   "execution_count": 25,
   "metadata": {},
   "outputs": [
    {
     "data": {
      "text/plain": [
       "array([1.        , 1.09392323, 1.19984514, 1.22468023, 0.63699783,\n",
       "       1.06794423, 0.98906042, 0.99234896, 0.99598336, 1.        ])"
      ]
     },
     "execution_count": 25,
     "metadata": {},
     "output_type": "execute_result"
    }
   ],
   "source": [
    "B = 1\n",
    "C1 = (B - y_0[-1]) / y_1[-1]\n",
    "y_final = y_0 + C1*y_1\n",
    "y_final"
   ]
  }
 ],
 "metadata": {
  "kernelspec": {
   "display_name": "Python 3",
   "language": "python",
   "name": "python3"
  },
  "language_info": {
   "codemirror_mode": {
    "name": "ipython",
    "version": 3
   },
   "file_extension": ".py",
   "mimetype": "text/x-python",
   "name": "python",
   "nbconvert_exporter": "python",
   "pygments_lexer": "ipython3",
   "version": "3.9.12"
  },
  "orig_nbformat": 4
 },
 "nbformat": 4,
 "nbformat_minor": 2
}
