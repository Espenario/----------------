{
 "cells": [
  {
   "cell_type": "code",
   "execution_count": 1,
   "metadata": {},
   "outputs": [],
   "source": [
    "import numpy as np"
   ]
  },
  {
   "cell_type": "code",
   "execution_count": 2,
   "metadata": {},
   "outputs": [],
   "source": [
    "alpha = 0.1 * 4\n",
    "beta = 0.1 * 4\n",
    "A = np.array([[10 + alpha, -1, 0.2, 2],\n",
    "              [1, 12 - alpha, -2, 0.1],\n",
    "              [0.3, -4, 12 - alpha, 1],\n",
    "              [0.2, -0.3, -0.5, 8 - alpha]\n",
    "              ])\n",
    "b = np.array([1 + beta, 2 - beta, 3, 1])\n",
    "# A = np.ones((4,4)) - A\n",
    "# alpha = 0.01 * 4\n",
    "# beta = 0.01 * 4\n",
    "# A = np.array([[2 + alpha, 1, -0.1, 1],\n",
    "#               [0.4, 0.5 - alpha, 4, -8.5],\n",
    "#               [0.3, -1, 1 + 2*alpha, 5.2],\n",
    "#               [1, 0.2, 2.5, -1 + alpha]\n",
    "#               ])\n",
    "# b = np.array([2.7 - beta, 21.9, -3.9, 9.9])"
   ]
  },
  {
   "cell_type": "code",
   "execution_count": 3,
   "metadata": {},
   "outputs": [
    {
     "data": {
      "text/plain": [
       "array([[ 0.        , -0.09615385,  0.01923077,  0.19230769],\n",
       "       [ 0.0862069 ,  0.        , -0.17241379,  0.00862069],\n",
       "       [ 0.02586207, -0.34482759,  0.        ,  0.0862069 ],\n",
       "       [ 0.02631579, -0.03947368, -0.06578947,  0.        ]])"
      ]
     },
     "execution_count": 3,
     "metadata": {},
     "output_type": "execute_result"
    }
   ],
   "source": [
    "F = []\n",
    "for i in range(len(A)):\n",
    "    buf = A[i]\n",
    "    buf = buf * -1\n",
    "    buf = buf / (A[i][i] * -1)\n",
    "    buf[i] = 0\n",
    "    F.append(buf)\n",
    "F = np.asarray(F)\n",
    "F"
   ]
  },
  {
   "cell_type": "code",
   "execution_count": 4,
   "metadata": {},
   "outputs": [
    {
     "data": {
      "text/plain": [
       "array([0.13461538, 0.13793103, 0.25862069, 0.13157895])"
      ]
     },
     "execution_count": 4,
     "metadata": {},
     "output_type": "execute_result"
    }
   ],
   "source": [
    "c = []\n",
    "for i in range(len(b)):\n",
    "    buf = b[i] / A[i][i]\n",
    "    c.append(buf)\n",
    "c = np.asarray(c)\n",
    "c"
   ]
  },
  {
   "cell_type": "code",
   "execution_count": 5,
   "metadata": {},
   "outputs": [
    {
     "data": {
      "text/plain": [
       "0.45689655172413796"
      ]
     },
     "execution_count": 5,
     "metadata": {},
     "output_type": "execute_result"
    }
   ],
   "source": [
    "F_norm = max([x.sum() for x in np.array([[abs(x) for x in elem] for elem in F])])\n",
    "F_norm"
   ]
  },
  {
   "cell_type": "code",
   "execution_count": 6,
   "metadata": {},
   "outputs": [],
   "source": [
    "def calculate_abs_error(x_k, x_k_min_1):\n",
    "    m = x_k - x_k_min_1\n",
    "    norm = max([x.sum() for x in np.array([abs(elem) for elem in m])])\n",
    "    return (F_norm * norm) / (1 - F_norm)"
   ]
  },
  {
   "cell_type": "code",
   "execution_count": 7,
   "metadata": {},
   "outputs": [],
   "source": [
    "def calculate_rel_error(abs_err, x_k):\n",
    "    return abs_err / max([x.sum() for x in np.array([abs(elem) for elem in x_k])])"
   ]
  },
  {
   "cell_type": "code",
   "execution_count": 8,
   "metadata": {},
   "outputs": [
    {
     "name": "stdout",
     "output_type": "stream",
     "text": [
      "--------------------\n",
      "Абсолютная ошибка для 1 итерации -  0.02754147575866707\n",
      "Относительная ошибка для 1 итерации -  0.12192821609126081\n",
      "--------------------\n",
      "Абсолютная ошибка для 2 итерации -  0.008237953160882702\n",
      "Относительная ошибка для 2 итерации -  0.03495471902485724\n",
      "--------------------\n",
      "Абсолютная ошибка для 3 итерации -  0.0017619754007710238\n",
      "Относительная ошибка для 3 итерации -  0.0075433303607050734\n"
     ]
    }
   ],
   "source": [
    "x_begin = c \n",
    "rel_err = 1\n",
    "k = 1\n",
    "while rel_err > 0.01:\n",
    "    x_new = F @ x_begin + c\n",
    "    abs_err = calculate_abs_error(x_new, x_begin)\n",
    "    print('--------------------')\n",
    "    print('Абсолютная ошибка для', k, 'итерации - ', abs_err)\n",
    "    rel_err = calculate_rel_error(abs_err, x_new)\n",
    "    print('Относительная ошибка для', k, 'итерации - ', rel_err)\n",
    "    k += 1\n",
    "    x_begin = x_new"
   ]
  },
  {
   "cell_type": "code",
   "execution_count": 9,
   "metadata": {},
   "outputs": [],
   "source": [
    "F_d = np.tril(F)\n",
    "F_u = np.triu(F)"
   ]
  },
  {
   "cell_type": "code",
   "execution_count": 10,
   "metadata": {},
   "outputs": [
    {
     "name": "stdout",
     "output_type": "stream",
     "text": [
      "--------------------\n",
      "Абсолютная ошибка для 1 итерации -  0.01297631511809442\n",
      "Относительная ошибка для 1 итерации -  0.04735097440978927\n",
      "--------------------\n",
      "Абсолютная ошибка для 2 итерации -  0.0007772513942147164\n",
      "Относительная ошибка для 2 итерации -  0.0028266845885775767\n",
      "--------------------\n",
      "Абсолютная ошибка для 3 итерации -  4.670064163651293e-05\n",
      "Относительная ошибка для 3 итерации -  0.00016980521355419676\n",
      "--------------------\n",
      "Абсолютная ошибка для 4 итерации -  2.8044621287576496e-06\n",
      "Относительная ошибка для 4 итерации -  1.0197001622219773e-05\n"
     ]
    }
   ],
   "source": [
    "x_begin = c \n",
    "rel_err = 1\n",
    "k = 1\n",
    "while rel_err > 1e-4:\n",
    "    x_new = F_u @ x_begin\n",
    "    x_new = F_d @ x_new + c\n",
    "    abs_err = calculate_abs_error(x_new, x_begin)\n",
    "    print('--------------------')\n",
    "    print('Абсолютная ошибка для', k, 'итерации - ', abs_err)\n",
    "    rel_err = calculate_rel_error(abs_err, x_new)\n",
    "    print('Относительная ошибка для', k, 'итерации - ', rel_err)\n",
    "    k += 1\n",
    "    x_begin = x_new"
   ]
  }
 ],
 "metadata": {
  "kernelspec": {
   "display_name": "base",
   "language": "python",
   "name": "python3"
  },
  "language_info": {
   "codemirror_mode": {
    "name": "ipython",
    "version": 3
   },
   "file_extension": ".py",
   "mimetype": "text/x-python",
   "name": "python",
   "nbconvert_exporter": "python",
   "pygments_lexer": "ipython3",
   "version": "3.6.9"
  },
  "orig_nbformat": 4
 },
 "nbformat": 4,
 "nbformat_minor": 2
}
